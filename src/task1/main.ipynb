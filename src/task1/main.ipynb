{
  "nbformat": 4,
  "nbformat_minor": 0,
  "metadata": {
    "colab": {
      "provenance": [],
      "authorship_tag": "ABX9TyOaVXcPTri24Jvd90zVLfxW",
      "include_colab_link": true
    },
    "kernelspec": {
      "name": "python3",
      "display_name": "Python 3"
    },
    "language_info": {
      "name": "python"
    }
  },
  "cells": [
    {
      "cell_type": "markdown",
      "metadata": {
        "id": "view-in-github",
        "colab_type": "text"
      },
      "source": [
        "<a href=\"https://colab.research.google.com/github/Greg682/Angelino_795413/blob/main/src/task1/main.ipynb\" target=\"_parent\"><img src=\"https://colab.research.google.com/assets/colab-badge.svg\" alt=\"Open In Colab\"/></a>"
      ]
    },
    {
      "cell_type": "code",
      "execution_count": 1,
      "metadata": {
        "id": "rhlRHVYHZz3C"
      },
      "outputs": [],
      "source": [
        "import pandas as pd"
      ]
    },
    {
      "cell_type": "code",
      "source": [
        "url=\"https://raw.githubusercontent.com/Greg682/Angelino_795413/main/res/data/anagraficapazientiattivi.csv\"\n",
        "dsactpat=pd.read_csv(url)\n",
        "dsactpat"
      ],
      "metadata": {
        "id": "qJNVPp3wa7Fc"
      },
      "execution_count": 2,
      "outputs": []
    },
    {
      "cell_type": "code",
      "source": [
        "duplicate_count = len(dsactpat)-len(dsactpat.drop_duplicates()) # Original data length (n. rows) - data length without duplicates\n",
        "\n",
        "duplicate_count"
      ],
      "metadata": {
        "id": "ptxwyoMHlepF",
        "outputId": "358ddbca-321b-4815-d733-2e6b476b5554",
        "colab": {
          "base_uri": "https://localhost:8080/"
        }
      },
      "execution_count": 5,
      "outputs": [
        {
          "output_type": "execute_result",
          "data": {
            "text/plain": [
              "0"
            ]
          },
          "metadata": {},
          "execution_count": 5
        }
      ]
    }
  ]
}